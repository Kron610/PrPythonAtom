{
 "cells": [
  {
   "cell_type": "markdown",
   "metadata": {},
   "source": [
    "# Недельник 1\n",
    "\n",
    "Как было сказано на лекции, на текущей неделе вы получаете ежедневные задания. Система оценки следующая: в первый день(четверг) вы делаете первый pull-request в ветку homework_01. Потом каждый день делаете коммит, он будет автоматически привязывать к pull-request. Если задачка не сделана в течении 2-х дней она сгорает. (Можно четверг сделать в четверг и пятницу)"
   ]
  },
  {
   "cell_type": "markdown",
   "metadata": {},
   "source": [
    "# Четверг"
   ]
  },
  {
   "cell_type": "code",
   "execution_count": null,
   "metadata": {},
   "outputs": [],
   "source": [
    "#TODO Сделайте калькулятор произвольных выражений, операции следующие: +, -, /, ^, *. скобок нет\n",
    "def calculate(input_str):\n",
    "    s=input_str.replace(\"^\",' ** ')\n",
    "    return eval(s)"
   ]
  },
  {
   "cell_type": "code",
   "execution_count": null,
   "metadata": {},
   "outputs": [],
   "source": [
    "assert calculate(\"2 + 2 * 2\") == 6\n",
    "assert calculate(\"345 / 5 * 21\") == 1449.\n",
    "assert calculate(\"3^3 - 10 + 41 * 3\") == 140\n",
    "assert calculate(\"42 / 7 * 32\") == 192.0\n",
    "assert calculate(\"115 - 4 + 2^3\") == 119\n",
    "assert calculate(\"20^1 + 32 -7\") == 45\n",
    "\n",
    "#TODO Дополнить еще 2-мя своими тестами"
   ]
  },
  {
   "cell_type": "markdown",
   "metadata": {},
   "source": [
    "# Пятница"
   ]
  },
  {
   "cell_type": "code",
   "execution_count": 7,
   "metadata": {},
   "outputs": [],
   "source": [
    "#TODO метод разворачивающий строку HE2LO -> HELLO (число означает сколько раз встречается буква)\n",
    "def transform_string(inp_string):\n",
    "    s = inp_string\n",
    "    l = len(s)\n",
    "    s_int=''\n",
    "    out_string=''\n",
    "    i = 0\n",
    "    while i<l:\n",
    "        a=s[i]\n",
    "        if ('0'<= a <= '9') is False:\n",
    "            out_string+=s[i]\n",
    "        while '0'<= a <= '9':\n",
    "            s_int += a\n",
    "            i += 1\n",
    "            a = s[i]\n",
    "        if s_int!='':\n",
    "            for j in range (1,int(s_int)+1,1):\n",
    "                out_string+=a\n",
    "            s_int=''\n",
    "        i += 1\n",
    "    return out_string"
   ]
  },
  {
   "cell_type": "code",
   "execution_count": 8,
   "metadata": {},
   "outputs": [],
   "source": [
    "assert transform_string(\"HE2LO\") == \"HELLO\"\n",
    "assert transform_string(\"HI\") == \"HI\"\n",
    "assert transform_string(\"пр12ивет\") == \"приииииииииииивет\"\n",
    "assert transform_string(\"2л3у78н65тик\") == 'ллуууннннннннннннннннннннннннннннннннннннннннннннннннннннннннннннннннннннннннннннннтттттттттттттттттттттттттттттттттттттттттттттттттттттттттттттттттик'\n",
    "assert transform_string(\"TR3E1K\") == \"TREEEK\"\n",
    "assert transform_string(\"D4REA2M\") == \"DRRRREAMM\"\n",
    "#TODO Дописать 2 своих теста"
   ]
  },
  {
   "cell_type": "markdown",
   "metadata": {},
   "source": [
    "# Суббота"
   ]
  },
  {
   "cell_type": "code",
   "execution_count": 35,
   "metadata": {},
   "outputs": [],
   "source": [
    "#TODO метод выводящий статистику по строке, кол-во гласных, согласных, цифр, строчных букв, прописных букв\n",
    "def string_stat(inp_string):\n",
    "    a=0\n",
    "    b=0\n",
    "    c=0\n",
    "    d=0\n",
    "    e=0\n",
    "    for i in inp_string:\n",
    "        if i=='а' or i=='е' or i=='ю' or i=='у' or i=='ы' or i=='о' or i=='э' or i=='и' or i=='я' or i=='А' or i=='Е' or i=='Ю' or i=='У' or i=='Ы' or i=='О' or i=='Э' or i=='И' or i=='Я' or i=='ё' or i=='Ё':\n",
    "            a+=1\n",
    "        if i=='ц' or i=='й' or i=='к' or i=='н' or i=='г' or i=='ш' or i=='щ' or i=='з' or i=='х' or i=='ф' or i=='в' or i=='п' or i=='р' or i=='л' or i=='д' or i=='ж' or i=='ч' or i=='м' or i=='т' or i=='б' or i=='Ц' or i=='Й' or i=='К' or i=='Н' or i=='Г' or i=='Ш' or i=='Щ' or i=='З' or i=='Х' or i=='Ф' or i=='В' or i=='П' or i=='Р' or i=='Л' or i=='Д' or i=='Ж' or i=='Ч' or i=='М' or i=='Т' or i=='Б' or i=='с' or i=='С':\n",
    "            b+=1\n",
    "        if '0'<=i<='9':\n",
    "            c+=1\n",
    "        if i.isupper():\n",
    "            e+=1\n",
    "        if i.islower():\n",
    "            d+=1    \n",
    "    return (a, b, c, d, e)"
   ]
  },
  {
   "cell_type": "code",
   "execution_count": 36,
   "metadata": {},
   "outputs": [],
   "source": [
    "assert string_stat(\"Тевирп\") == (2, 4, 0, 5, 1)\n",
    "assert string_stat(\"КоРоВа4\") == (3, 3, 1, 3, 3)\n",
    "assert string_stat(\"ДОлОре7\") == (3, 3, 1, 3, 3)\n",
    "assert string_stat(\"345абвУУ\") == (3, 2, 3, 3, 2)\n",
    "#TODO 2 своих теста"
   ]
  },
  {
   "cell_type": "markdown",
   "metadata": {},
   "source": [
    "# Воскресенье - ВЫХОДНОЙ"
   ]
  },
  {
   "cell_type": "markdown",
   "metadata": {},
   "source": [
    "# Понедельник"
   ]
  },
  {
   "cell_type": "code",
   "execution_count": 71,
   "metadata": {},
   "outputs": [
    {
     "name": "stdout",
     "output_type": "stream",
     "text": [
      "dict_items([('eatable', ['mango', 'banana'])])\n"
     ]
    }
   ],
   "source": [
    "#TODO инвертируйте словарь из k - [v_1, v_2] в v_1 [k_1]\n",
    "def dict_inverter(input_dict):\n",
    "    keyslist=input_dict.keys()\n",
    "    dict_list={}\n",
    "    for i in keyslist:\n",
    "        for j in input_dict[i]:\n",
    "            if j in dict_list.keys():\n",
    "                    dict_list[j].append(i)\n",
    "            else:\n",
    "                dict_list.update({j:[i]})\n",
    "    for i in dict_list.keys():\n",
    "        if len(dict_list[i])==1:\n",
    "            dict_list[i]=dict_list[i][0]\n",
    "    return dict_list\n",
    "print(dict_inverter({\"mango\" : [\"eatable\"], \"banana\": [\"eatable\"]}).items())"
   ]
  },
  {
   "cell_type": "code",
   "execution_count": 72,
   "metadata": {},
   "outputs": [],
   "source": [
    "assert dict_inverter({\"mango\" : [\"eatable\"], \"pillow\": [\"sleepable\"]}) == {\"eatable\": \"mango\", \"sleepable\": \"pillow\"}\n",
    "assert dict_inverter({\"mango\" : [\"eatable\", \"readable\"]}) == {\"readable\":\"mango\", \"eatable\":\"mango\"}\n",
    "assert dict_inverter({\"mango\" : [\"eatable\"], \"banana\": [\"eatable\"]}) == {\"eatable\": [\"mango\", \"banana\"]}\n",
    "assert dict_inverter({\"34\" : [\"43\"], \"44\": [\"43\"]}) == {\"43\": [\"34\", \"44\"]}\n",
    "#TODO Один свой тест"
   ]
  },
  {
   "cell_type": "markdown",
   "metadata": {},
   "source": [
    "# Вторник"
   ]
  },
  {
   "cell_type": "code",
   "execution_count": 67,
   "metadata": {},
   "outputs": [],
   "source": [
    "#TODO вывести уникальные элементы массива\n",
    "def uniq_array(input_arr):\n",
    "    a=set(input_arr)\n",
    "    return a"
   ]
  },
  {
   "cell_type": "code",
   "execution_count": 66,
   "metadata": {},
   "outputs": [],
   "source": [
    "assert uniq_array([0]) == {0}\n",
    "assert uniq_array([0, 1, 2, 3]) == {0, 1, 2, 3}\n",
    "assert uniq_array([\"f\", \"t\", \"f\"]) == {'t', 'f'}\n",
    "assert uniq_array(['rt', 'rt']) == {'rt'}"
   ]
  },
  {
   "cell_type": "code",
   "execution_count": null,
   "metadata": {},
   "outputs": [],
   "source": []
  }
 ],
 "metadata": {
  "kernelspec": {
   "display_name": "Python 3",
   "language": "python",
   "name": "python3"
  },
  "language_info": {
   "codemirror_mode": {
    "name": "ipython",
    "version": 3
   },
   "file_extension": ".py",
   "mimetype": "text/x-python",
   "name": "python",
   "nbconvert_exporter": "python",
   "pygments_lexer": "ipython3",
   "version": "3.6.5"
  }
 },
 "nbformat": 4,
 "nbformat_minor": 2
}
